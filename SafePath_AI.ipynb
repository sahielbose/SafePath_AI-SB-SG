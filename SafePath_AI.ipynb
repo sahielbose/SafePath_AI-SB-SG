{
  "nbformat": 4,
  "nbformat_minor": 0,
  "metadata": {
    "colab": {
      "provenance": []
    },
    "kernelspec": {
      "name": "python3",
      "display_name": "Python 3"
    },
    "language_info": {
      "name": "python"
    }
  },
  "cells": [
    {
      "cell_type": "markdown",
      "source": [
        "Project 1\n",
        "Suicide Prediction for Large Groups Based off 13 features"
      ],
      "metadata": {
        "id": "ftiSBcJNd5O2"
      }
    },
    {
      "cell_type": "markdown",
      "source": [
        "Preparing Data for Regression Model"
      ],
      "metadata": {
        "id": "J5ypL9qqwiAw"
      }
    },
    {
      "cell_type": "code",
      "source": [
        "import pandas as pd\n",
        "import numpy as np\n",
        "import copy, math\n",
        "import matplotlib.pyplot as plt\n",
        "import random as rd\n",
        "\n",
        "# Reading csv file\n",
        "data_file = \"/content/sample_data/GHSH_Pooled_Data1.csv\"\n",
        "\n",
        "# Storing dataset to a variable\n",
        "suicide_data = pd.read_csv(data_file)\n",
        "\n",
        "rows_to_drop = []\n",
        "\n",
        "# Cleaning our dataset by removing unwanted NaN values and storing it to a variable that stores all the rows to drop\n",
        "for x in suicide_data.index:\n",
        "    record = suicide_data.loc[x]\n",
        "    for i in range(len(suicide_data.columns)):\n",
        "        if pd.isna(record.iloc[i]):\n",
        "            rows_to_drop.append(x)\n",
        "\n",
        "new_suicide_data = suicide_data.drop(rows_to_drop)\n",
        "new_suicide_data.reset_index(drop=True, inplace=True)\n",
        "\n",
        "# Cleaned pandas dataframe\n",
        "new_suicide_data[\"Sex\"] = new_suicide_data[\"Sex\"].map({\"Male\": 0, \"Female\": 1})\n",
        "\n",
        "# Ensure that \"Attempted_suicide\" is numeric\n",
        "new_suicide_data[\"Attempted_suicide\"] = pd.to_numeric(new_suicide_data[\"Attempted_suicide\"], errors='coerce')\n",
        "\n",
        "# Drop any remaining NaN values after conversion\n",
        "new_suicide_data = new_suicide_data.dropna()\n",
        "\n",
        "# Creating a new copy to use of the dataset\n",
        "cleaned_suicide_data = new_suicide_data.copy()\n",
        "\n",
        "# Accessing the columns of the data set we want to store as x feature training data and y target data\n",
        "cleaned_suicide_data_xfeatures = cleaned_suicide_data.iloc[:, 3:16]  # Ensure these columns match your features\n",
        "cleaned_suicide_data_ytarget = cleaned_suicide_data[\"Attempted_suicide\"]\n",
        "\n",
        "# Convert all columns to numeric\n",
        "cleaned_suicide_data_xfeatures = cleaned_suicide_data_xfeatures.apply(pd.to_numeric, errors='coerce')\n",
        "\n",
        "# Drop any rows with NaN values resulting from the conversion\n",
        "cleaned_suicide_data_xfeatures = cleaned_suicide_data_xfeatures.dropna()\n",
        "\n",
        "# Convert to numpy arrays\n",
        "x_train = cleaned_suicide_data_xfeatures.to_numpy()\n",
        "y_train = cleaned_suicide_data_ytarget.to_numpy()\n",
        "\n",
        "# Check the data types\n",
        "print(f\"x_train dtype: {x_train.dtype}\")\n",
        "print(f\"y_train dtype: {y_train.dtype}\")\n"
      ],
      "metadata": {
        "colab": {
          "base_uri": "https://localhost:8080/"
        },
        "id": "x72CZAYfeF3d",
        "outputId": "c32870e6-29ad-4425-84be-593a6e721c28"
      },
      "execution_count": null,
      "outputs": [
        {
          "output_type": "stream",
          "name": "stdout",
          "text": [
            "x_train dtype: float64\n",
            "y_train dtype: float64\n"
          ]
        }
      ]
    },
    {
      "cell_type": "code",
      "source": [
        "from google.colab import drive\n",
        "drive.mount('/content/drive')"
      ],
      "metadata": {
        "colab": {
          "base_uri": "https://localhost:8080/",
          "height": 304
        },
        "id": "GxtVFwDLGMFW",
        "outputId": "9b16b18a-3ee5-4795-ac32-e6300265b72d"
      },
      "execution_count": null,
      "outputs": [
        {
          "output_type": "error",
          "ename": "MessageError",
          "evalue": "Error: credential propagation was unsuccessful",
          "traceback": [
            "\u001b[0;31m---------------------------------------------------------------------------\u001b[0m",
            "\u001b[0;31mMessageError\u001b[0m                              Traceback (most recent call last)",
            "\u001b[0;32m<ipython-input-2-d5df0069828e>\u001b[0m in \u001b[0;36m<cell line: 2>\u001b[0;34m()\u001b[0m\n\u001b[1;32m      1\u001b[0m \u001b[0;32mfrom\u001b[0m \u001b[0mgoogle\u001b[0m\u001b[0;34m.\u001b[0m\u001b[0mcolab\u001b[0m \u001b[0;32mimport\u001b[0m \u001b[0mdrive\u001b[0m\u001b[0;34m\u001b[0m\u001b[0;34m\u001b[0m\u001b[0m\n\u001b[0;32m----> 2\u001b[0;31m \u001b[0mdrive\u001b[0m\u001b[0;34m.\u001b[0m\u001b[0mmount\u001b[0m\u001b[0;34m(\u001b[0m\u001b[0;34m'/content/drive'\u001b[0m\u001b[0;34m)\u001b[0m\u001b[0;34m\u001b[0m\u001b[0;34m\u001b[0m\u001b[0m\n\u001b[0m",
            "\u001b[0;32m/usr/local/lib/python3.10/dist-packages/google/colab/drive.py\u001b[0m in \u001b[0;36mmount\u001b[0;34m(mountpoint, force_remount, timeout_ms, readonly)\u001b[0m\n\u001b[1;32m     98\u001b[0m \u001b[0;32mdef\u001b[0m \u001b[0mmount\u001b[0m\u001b[0;34m(\u001b[0m\u001b[0mmountpoint\u001b[0m\u001b[0;34m,\u001b[0m \u001b[0mforce_remount\u001b[0m\u001b[0;34m=\u001b[0m\u001b[0;32mFalse\u001b[0m\u001b[0;34m,\u001b[0m \u001b[0mtimeout_ms\u001b[0m\u001b[0;34m=\u001b[0m\u001b[0;36m120000\u001b[0m\u001b[0;34m,\u001b[0m \u001b[0mreadonly\u001b[0m\u001b[0;34m=\u001b[0m\u001b[0;32mFalse\u001b[0m\u001b[0;34m)\u001b[0m\u001b[0;34m:\u001b[0m\u001b[0;34m\u001b[0m\u001b[0;34m\u001b[0m\u001b[0m\n\u001b[1;32m     99\u001b[0m   \u001b[0;34m\"\"\"Mount your Google Drive at the specified mountpoint path.\"\"\"\u001b[0m\u001b[0;34m\u001b[0m\u001b[0;34m\u001b[0m\u001b[0m\n\u001b[0;32m--> 100\u001b[0;31m   return _mount(\n\u001b[0m\u001b[1;32m    101\u001b[0m       \u001b[0mmountpoint\u001b[0m\u001b[0;34m,\u001b[0m\u001b[0;34m\u001b[0m\u001b[0;34m\u001b[0m\u001b[0m\n\u001b[1;32m    102\u001b[0m       \u001b[0mforce_remount\u001b[0m\u001b[0;34m=\u001b[0m\u001b[0mforce_remount\u001b[0m\u001b[0;34m,\u001b[0m\u001b[0;34m\u001b[0m\u001b[0;34m\u001b[0m\u001b[0m\n",
            "\u001b[0;32m/usr/local/lib/python3.10/dist-packages/google/colab/drive.py\u001b[0m in \u001b[0;36m_mount\u001b[0;34m(mountpoint, force_remount, timeout_ms, ephemeral, readonly)\u001b[0m\n\u001b[1;32m    131\u001b[0m   )\n\u001b[1;32m    132\u001b[0m   \u001b[0;32mif\u001b[0m \u001b[0mephemeral\u001b[0m\u001b[0;34m:\u001b[0m\u001b[0;34m\u001b[0m\u001b[0;34m\u001b[0m\u001b[0m\n\u001b[0;32m--> 133\u001b[0;31m     _message.blocking_request(\n\u001b[0m\u001b[1;32m    134\u001b[0m         \u001b[0;34m'request_auth'\u001b[0m\u001b[0;34m,\u001b[0m\u001b[0;34m\u001b[0m\u001b[0;34m\u001b[0m\u001b[0m\n\u001b[1;32m    135\u001b[0m         \u001b[0mrequest\u001b[0m\u001b[0;34m=\u001b[0m\u001b[0;34m{\u001b[0m\u001b[0;34m'authType'\u001b[0m\u001b[0;34m:\u001b[0m \u001b[0;34m'dfs_ephemeral'\u001b[0m\u001b[0;34m}\u001b[0m\u001b[0;34m,\u001b[0m\u001b[0;34m\u001b[0m\u001b[0;34m\u001b[0m\u001b[0m\n",
            "\u001b[0;32m/usr/local/lib/python3.10/dist-packages/google/colab/_message.py\u001b[0m in \u001b[0;36mblocking_request\u001b[0;34m(request_type, request, timeout_sec, parent)\u001b[0m\n\u001b[1;32m    174\u001b[0m       \u001b[0mrequest_type\u001b[0m\u001b[0;34m,\u001b[0m \u001b[0mrequest\u001b[0m\u001b[0;34m,\u001b[0m \u001b[0mparent\u001b[0m\u001b[0;34m=\u001b[0m\u001b[0mparent\u001b[0m\u001b[0;34m,\u001b[0m \u001b[0mexpect_reply\u001b[0m\u001b[0;34m=\u001b[0m\u001b[0;32mTrue\u001b[0m\u001b[0;34m\u001b[0m\u001b[0;34m\u001b[0m\u001b[0m\n\u001b[1;32m    175\u001b[0m   )\n\u001b[0;32m--> 176\u001b[0;31m   \u001b[0;32mreturn\u001b[0m \u001b[0mread_reply_from_input\u001b[0m\u001b[0;34m(\u001b[0m\u001b[0mrequest_id\u001b[0m\u001b[0;34m,\u001b[0m \u001b[0mtimeout_sec\u001b[0m\u001b[0;34m)\u001b[0m\u001b[0;34m\u001b[0m\u001b[0;34m\u001b[0m\u001b[0m\n\u001b[0m",
            "\u001b[0;32m/usr/local/lib/python3.10/dist-packages/google/colab/_message.py\u001b[0m in \u001b[0;36mread_reply_from_input\u001b[0;34m(message_id, timeout_sec)\u001b[0m\n\u001b[1;32m    101\u001b[0m     ):\n\u001b[1;32m    102\u001b[0m       \u001b[0;32mif\u001b[0m \u001b[0;34m'error'\u001b[0m \u001b[0;32min\u001b[0m \u001b[0mreply\u001b[0m\u001b[0;34m:\u001b[0m\u001b[0;34m\u001b[0m\u001b[0;34m\u001b[0m\u001b[0m\n\u001b[0;32m--> 103\u001b[0;31m         \u001b[0;32mraise\u001b[0m \u001b[0mMessageError\u001b[0m\u001b[0;34m(\u001b[0m\u001b[0mreply\u001b[0m\u001b[0;34m[\u001b[0m\u001b[0;34m'error'\u001b[0m\u001b[0;34m]\u001b[0m\u001b[0;34m)\u001b[0m\u001b[0;34m\u001b[0m\u001b[0;34m\u001b[0m\u001b[0m\n\u001b[0m\u001b[1;32m    104\u001b[0m       \u001b[0;32mreturn\u001b[0m \u001b[0mreply\u001b[0m\u001b[0;34m.\u001b[0m\u001b[0mget\u001b[0m\u001b[0;34m(\u001b[0m\u001b[0;34m'data'\u001b[0m\u001b[0;34m,\u001b[0m \u001b[0;32mNone\u001b[0m\u001b[0;34m)\u001b[0m\u001b[0;34m\u001b[0m\u001b[0;34m\u001b[0m\u001b[0m\n\u001b[1;32m    105\u001b[0m \u001b[0;34m\u001b[0m\u001b[0m\n",
            "\u001b[0;31mMessageError\u001b[0m: Error: credential propagation was unsuccessful"
          ]
        }
      ]
    },
    {
      "cell_type": "markdown",
      "source": [
        "Linear Regression Model Function"
      ],
      "metadata": {
        "id": "C0jb8OCpwqKS"
      }
    },
    {
      "cell_type": "code",
      "source": [
        "#intitializing varaibles\n",
        "\n",
        "w_in = np.array([rd.uniform(1, 10) for i in range(x_train.shape[1])])\n",
        "\n",
        "b_in = 3\n",
        "\n",
        "\n",
        "def model(x, w, b):\n",
        "  model_prediction = np.dot(x, w) + b\n",
        "  final_prediction = round(model_prediction, 2)\n",
        "  return \"The suicide prediction rate for this area is \" + str(final_prediction) + \"%.\"\n",
        "\n"
      ],
      "metadata": {
        "id": "CfUMff2lcjEw"
      },
      "execution_count": null,
      "outputs": []
    },
    {
      "cell_type": "markdown",
      "source": [
        "Cost Function"
      ],
      "metadata": {
        "id": "l0LuNdJP3Jof"
      }
    },
    {
      "cell_type": "code",
      "source": [
        "\"\"\"uses squared error cost function to find the difference between the model prediction\n",
        "and the actual y and scores the error and accumulates it and divides by 2 times m at\n",
        "the end\"\"\"\n",
        "\n",
        "def cost_funct(x, y, w, b):\n",
        "  m = x.shape[0]\n",
        "  cost = 0\n",
        "  for i in range(m):\n",
        "    f_wb = np.dot(x[i], w) + b\n",
        "    cost += (f_wb - y[i]) ** 2\n",
        "  cost = cost / (2 * m)\n",
        "\n",
        "  return cost"
      ],
      "metadata": {
        "id": "f-pc75pO3Ihz"
      },
      "execution_count": null,
      "outputs": []
    },
    {
      "cell_type": "markdown",
      "source": [
        "Computing the Gradient and Gradient Descent Functions"
      ],
      "metadata": {
        "id": "c6KVdwyW6Ahy"
      }
    },
    {
      "cell_type": "code",
      "source": [
        "#function to compute the gradient\n",
        "\n",
        "def comp_grad(x, y, w, b):\n",
        "  m, n = x.shape\n",
        "  dj_db = 0\n",
        "  dj_dw = np.zeros((n,))\n",
        "  for i in range(m):\n",
        "    error = (np.dot(x[i], w) + b) - y[i]\n",
        "    for j in range(n):\n",
        "      dj_dw[j] += error * x[i, j]\n",
        "    dj_db += error\n",
        "\n",
        "  dj_dw = dj_dw / m\n",
        "  dj_db = dj_db / m\n",
        "\n",
        "  return dj_db, dj_dw\n",
        "\n",
        "\n",
        "#function to perform gradient descent\n",
        "def grad_descent(x, y, w_input, b_input, cost_funct, comp_grad, alpha, iterations):\n",
        "\n",
        "  cost_hist = []\n",
        "  w = copy.deepcopy(w_input)\n",
        "  b = b_input\n",
        "\n",
        "  for i in range(iterations):\n",
        "    dj_db, dj_dw = comp_grad(x, y, w, b)\n",
        "\n",
        "    w -= alpha * dj_dw\n",
        "    b -= alpha * dj_db\n",
        "\n",
        "    cost = cost_funct(x, y, w, b)\n",
        "\n",
        "    if i % 1000 == 0:\n",
        "      print(f\"Iteration {i}: Cost {cost}, w {w}, b {b}\")\n",
        "\n",
        "  return w, b, cost_hist\n"
      ],
      "metadata": {
        "id": "hMQHkhem6FgW"
      },
      "execution_count": null,
      "outputs": []
    },
    {
      "cell_type": "markdown",
      "source": [
        "Initializing Variables and Testing the Functions"
      ],
      "metadata": {
        "id": "i1sXLf6So4Qy"
      }
    },
    {
      "cell_type": "code",
      "source": [
        "w_init = np.zeros_like(w_in)\n",
        "b_init = 0\n",
        "\n",
        "alpha = 1.0e-7\n",
        "num_iterations = 5000\n",
        "\n",
        "w_final, b_final, cost_history = grad_descent(x_train, y_train, w_init, b_init, cost_funct, comp_grad, alpha, num_iterations)\n",
        "\n",
        "w_final, b_final\n"
      ],
      "metadata": {
        "id": "rObi0quDo-U-",
        "colab": {
          "base_uri": "https://localhost:8080/"
        },
        "outputId": "21aabd2d-5bf4-40a0-a6c2-051e5af08fe1"
      },
      "execution_count": null,
      "outputs": [
        {
          "output_type": "stream",
          "name": "stdout",
          "text": [
            "Iteration 0: Cost 149.2387711574918, w [7.4880000e-07 4.9764330e-05 3.3740190e-05 3.8120360e-05 1.3923840e-05\n",
            " 4.6366110e-05 4.7395470e-05 4.4491070e-05 2.4947870e-05 5.2520690e-05\n",
            " 5.3989490e-05 7.1047803e-05 1.3252980e-05], b 1.4473e-06\n",
            "Iteration 1000: Cost 47.75396984827999, w [0.00052379 0.02720494 0.02151642 0.02518511 0.00919182 0.02899934\n",
            " 0.03067398 0.0286177  0.01585259 0.03362453 0.03629492 0.04622517\n",
            " 0.00879946], b 0.0009185933156535743\n",
            "Iteration 2000: Cost 32.41826026323254, w [0.000798   0.03102652 0.02966856 0.03608846 0.01321618 0.03889164\n",
            " 0.04287023 0.03987348 0.02168694 0.04637013 0.0529858  0.06500297\n",
            " 0.01269142], b 0.0012541985225024332\n",
            "Iteration 3000: Cost 29.30568565509645, w [0.00097621 0.0276247  0.03287932 0.04155883 0.01533878 0.04158441\n",
            " 0.0480155  0.04470177 0.02373294 0.05114889 0.06214613 0.0732888\n",
            " 0.01472741], b 0.0013686744913900945\n",
            "Iteration 4000: Cost 28.181607567342, w [0.00111567 0.0226277  0.03424431 0.04488103 0.01675715 0.04149141\n",
            " 0.05035824 0.04712122 0.02429986 0.0527632  0.06827142 0.07739021\n",
            " 0.01603742], b 0.0013963618162447491\n"
          ]
        },
        {
          "output_type": "execute_result",
          "data": {
            "text/plain": [
              "(array([0.00123811, 0.01787614, 0.03490814, 0.04729411, 0.01791132,\n",
              "        0.04027542, 0.05150758, 0.0486173 , 0.02425738, 0.05303397,\n",
              "        0.07306697, 0.07969857, 0.01704539]),\n",
              " 0.001388017330809088)"
            ]
          },
          "metadata": {},
          "execution_count": 6
        }
      ]
    },
    {
      "cell_type": "markdown",
      "source": [
        "Testing with a data point"
      ],
      "metadata": {
        "id": "_mVS3zVawDKM"
      }
    },
    {
      "cell_type": "code",
      "source": [
        "\n",
        "model(x_train[1], w_final, b_final)"
      ],
      "metadata": {
        "id": "c_FVnDSqwFF6",
        "colab": {
          "base_uri": "https://localhost:8080/",
          "height": 35
        },
        "outputId": "3bf882c7-71fb-4905-b1c5-c030a7cc6b90"
      },
      "execution_count": null,
      "outputs": [
        {
          "output_type": "execute_result",
          "data": {
            "text/plain": [
              "'The suicide prediction rate for this area is 13.66%.'"
            ],
            "application/vnd.google.colaboratory.intrinsic+json": {
              "type": "string"
            }
          },
          "metadata": {},
          "execution_count": 7
        }
      ]
    },
    {
      "cell_type": "code",
      "source": [
        "from sklearn.metrics import accuracy_score\n",
        "\n",
        "def calculate_accuracy(true_labels, predictions):\n",
        "    \"\"\"\n",
        "    Calculate the accuracy of a model's predictions.\n",
        "\n",
        "    Parameters:\n",
        "    true_labels (list or array): The true labels.\n",
        "    predictions (list or array): The predicted labels.\n",
        "\n",
        "    Returns:\n",
        "    float: The accuracy of the predictions.\n",
        "    \"\"\"\n",
        "    return accuracy_score(true_labels, predictions)\n",
        "\n",
        "# Example usage\n",
        "if __name__ == \"__main__\":\n",
        "    # Example true labels and predictions\n",
        "    true_labels = [0, 1, 1, 0, 1, 0, 1, 1, 0, 1]\n",
        "    predictions = [0, 1, 1, 0, 0, 0, 1, 1, 0, 1]\n",
        "\n",
        "    accuracy = calculate_accuracy(true_labels, predictions)\n",
        "    print(f\"Model Accuracy: {accuracy * 100:.2f}%\")"
      ],
      "metadata": {
        "id": "t0LvoEFRU-_q",
        "colab": {
          "base_uri": "https://localhost:8080/"
        },
        "outputId": "4110e6d3-36ce-4387-8ed4-93bf3ea6f379"
      },
      "execution_count": null,
      "outputs": [
        {
          "output_type": "stream",
          "name": "stdout",
          "text": [
            "Model Accuracy: 90.00%\n"
          ]
        }
      ]
    },
    {
      "cell_type": "code",
      "source": [
        "import numpy as np\n",
        "import matplotlib.pyplot as plt\n",
        "from sklearn.model_selection import train_test_split\n",
        "from sklearn.linear_model import LinearRegression\n",
        "from sklearn.metrics import r2_score, mean_squared_error\n",
        "\n",
        "# Assuming you have features X and target y from your data\n",
        "# Replace X, y with the actual variables from your dataset\n",
        "\n",
        "X = x_train\n",
        "y = y_train\n",
        "\n",
        "# Split the data into training and testing sets\n",
        "X_train, X_test, y_train, y_test = train_test_split(X, y, test_size=0.3, random_state=42)\n",
        "\n",
        "# Train the linear regression model\n",
        "model = LinearRegression()\n",
        "model.fit(X_train, y_train)\n",
        "\n",
        "# Predict the output on the test data\n",
        "y_pred = model.predict(X_test)\n",
        "\n",
        "# Calculate R² Score\n",
        "r2 = r2_score(y_test, y_pred)\n",
        "\n",
        "# Calculate Mean Squared Error\n",
        "mse = mean_squared_error(y_test, y_pred)\n",
        "\n",
        "# Plotting the R² Score\n",
        "plt.figure(figsize=(10, 6))\n",
        "plt.bar(['R² Score'], [r2], color='skyblue')\n",
        "plt.title('Linear Regression Model Accuracy (R² Score)')\n",
        "plt.ylim(0, 1)\n",
        "plt.ylabel('Accuracy')\n",
        "plt.show()\n",
        "\n",
        "# Plotting the Mean Squared Error\n",
        "plt.figure(figsize=(10, 6))\n",
        "plt.bar(['Mean Squared Error'], [mse], color='salmon')\n",
        "plt.title('Linear Regression Model Error (Mean Squared Error)')\n",
        "plt.ylabel('Error')\n",
        "plt.show()\n"
      ],
      "metadata": {
        "id": "Om_QK6fyg4Ko",
        "outputId": "d1893107-992c-43c1-ad51-63b071739d1a",
        "colab": {
          "base_uri": "https://localhost:8080/",
          "height": 1000
        }
      },
      "execution_count": null,
      "outputs": [
        {
          "output_type": "display_data",
          "data": {
            "text/plain": [
              "<Figure size 1000x600 with 1 Axes>"
            ],
            "image/png": "[encoded data removed]"
          },
          "metadata": {}
        },
        {
          "output_type": "display_data",
          "data": {
            "text/plain": [
              "<Figure size 1000x600 with 1 Axes>"
            ],
            "image/png": "[encoded data removed]"
          },
          "metadata": {}
        }
      ]
    }
  ]
}